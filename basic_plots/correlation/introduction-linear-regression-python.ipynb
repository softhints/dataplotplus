{
 "cells": [
  {
   "cell_type": "markdown",
   "metadata": {},
   "source": [
    "# Introduction to Linear Regression in Python"
   ]
  },
  {
   "cell_type": "code",
   "execution_count": 1,
   "metadata": {},
   "outputs": [
    {
     "data": {
      "text/html": [
       "<div>\n",
       "<style scoped>\n",
       "    .dataframe tbody tr th:only-of-type {\n",
       "        vertical-align: middle;\n",
       "    }\n",
       "\n",
       "    .dataframe tbody tr th {\n",
       "        vertical-align: top;\n",
       "    }\n",
       "\n",
       "    .dataframe thead th {\n",
       "        text-align: right;\n",
       "    }\n",
       "</style>\n",
       "<table border=\"1\" class=\"dataframe\">\n",
       "  <thead>\n",
       "    <tr style=\"text-align: right;\">\n",
       "      <th></th>\n",
       "      <th>country</th>\n",
       "      <th>adjusted_satisfaction</th>\n",
       "      <th>avg_satisfaction</th>\n",
       "      <th>std_satisfaction</th>\n",
       "      <th>avg_income</th>\n",
       "      <th>median_income</th>\n",
       "      <th>income_inequality</th>\n",
       "      <th>region</th>\n",
       "      <th>happyScore</th>\n",
       "      <th>GDP</th>\n",
       "      <th>country.1</th>\n",
       "    </tr>\n",
       "  </thead>\n",
       "  <tbody>\n",
       "    <tr>\n",
       "      <th>0</th>\n",
       "      <td>Armenia</td>\n",
       "      <td>37.0</td>\n",
       "      <td>4.9</td>\n",
       "      <td>2.42</td>\n",
       "      <td>2096.76</td>\n",
       "      <td>1731.506667</td>\n",
       "      <td>31.445556</td>\n",
       "      <td>'Central and Eastern Europe'</td>\n",
       "      <td>4.350</td>\n",
       "      <td>0.76821</td>\n",
       "      <td>Armenia</td>\n",
       "    </tr>\n",
       "    <tr>\n",
       "      <th>1</th>\n",
       "      <td>Angola</td>\n",
       "      <td>26.0</td>\n",
       "      <td>4.3</td>\n",
       "      <td>3.19</td>\n",
       "      <td>1448.88</td>\n",
       "      <td>1044.240000</td>\n",
       "      <td>42.720000</td>\n",
       "      <td>'Sub-Saharan Africa'</td>\n",
       "      <td>4.033</td>\n",
       "      <td>0.75778</td>\n",
       "      <td>Angola</td>\n",
       "    </tr>\n",
       "    <tr>\n",
       "      <th>2</th>\n",
       "      <td>Argentina</td>\n",
       "      <td>60.0</td>\n",
       "      <td>7.1</td>\n",
       "      <td>1.91</td>\n",
       "      <td>7101.12</td>\n",
       "      <td>5109.400000</td>\n",
       "      <td>45.475556</td>\n",
       "      <td>'Latin America and Caribbean'</td>\n",
       "      <td>6.574</td>\n",
       "      <td>1.05351</td>\n",
       "      <td>Argentina</td>\n",
       "    </tr>\n",
       "    <tr>\n",
       "      <th>3</th>\n",
       "      <td>Austria</td>\n",
       "      <td>59.0</td>\n",
       "      <td>7.2</td>\n",
       "      <td>2.11</td>\n",
       "      <td>19457.04</td>\n",
       "      <td>16879.620000</td>\n",
       "      <td>30.296250</td>\n",
       "      <td>'Western Europe'</td>\n",
       "      <td>7.200</td>\n",
       "      <td>1.33723</td>\n",
       "      <td>Austria</td>\n",
       "    </tr>\n",
       "    <tr>\n",
       "      <th>4</th>\n",
       "      <td>Australia</td>\n",
       "      <td>65.0</td>\n",
       "      <td>7.6</td>\n",
       "      <td>1.80</td>\n",
       "      <td>19917.00</td>\n",
       "      <td>15846.060000</td>\n",
       "      <td>35.285000</td>\n",
       "      <td>'Australia and New Zealand'</td>\n",
       "      <td>7.284</td>\n",
       "      <td>1.33358</td>\n",
       "      <td>Australia</td>\n",
       "    </tr>\n",
       "  </tbody>\n",
       "</table>\n",
       "</div>"
      ],
      "text/plain": [
       "     country  adjusted_satisfaction  avg_satisfaction  std_satisfaction  \\\n",
       "0    Armenia                   37.0               4.9              2.42   \n",
       "1     Angola                   26.0               4.3              3.19   \n",
       "2  Argentina                   60.0               7.1              1.91   \n",
       "3    Austria                   59.0               7.2              2.11   \n",
       "4  Australia                   65.0               7.6              1.80   \n",
       "\n",
       "   avg_income  median_income  income_inequality  \\\n",
       "0     2096.76    1731.506667          31.445556   \n",
       "1     1448.88    1044.240000          42.720000   \n",
       "2     7101.12    5109.400000          45.475556   \n",
       "3    19457.04   16879.620000          30.296250   \n",
       "4    19917.00   15846.060000          35.285000   \n",
       "\n",
       "                          region  happyScore      GDP  country.1  \n",
       "0   'Central and Eastern Europe'       4.350  0.76821    Armenia  \n",
       "1           'Sub-Saharan Africa'       4.033  0.75778     Angola  \n",
       "2  'Latin America and Caribbean'       6.574  1.05351  Argentina  \n",
       "3               'Western Europe'       7.200  1.33723    Austria  \n",
       "4    'Australia and New Zealand'       7.284  1.33358  Australia  "
      ]
     },
     "execution_count": 1,
     "metadata": {},
     "output_type": "execute_result"
    }
   ],
   "source": [
    "import pandas as pd\n",
    "import numpy as np\n",
    "import matplotlib as mpl\n",
    "import matplotlib.pyplot as plt\n",
    "from sklearn.linear_model import LinearRegression\n",
    "\n",
    "# import and preview dataset \n",
    "df = pd.read_csv(\"https://raw.githubusercontent.com/softhints/dataplotplus/master/data/happyscore_income.csv\")\n",
    "df.head()"
   ]
  },
  {
   "cell_type": "code",
   "execution_count": 2,
   "metadata": {},
   "outputs": [],
   "source": [
    "import pyperclip\n",
    "cols = ['country', 'adjusted_satisfaction', 'avg_income', 'happyScore']\n",
    "pyperclip.copy((df[cols].head().to_html(classes='table table-striped text-center', justify='center', index=False)))\n"
   ]
  },
  {
   "cell_type": "code",
   "execution_count": 3,
   "metadata": {},
   "outputs": [
    {
     "data": {
      "text/plain": [
       "<matplotlib.collections.PathCollection at 0x7f29e198bb00>"
      ]
     },
     "execution_count": 3,
     "metadata": {},
     "output_type": "execute_result"
    },
    {
     "data": {
      "image/png": "[encoded data removed]",
      "text/plain": [
       "<Figure size 432x288 with 1 Axes>"
      ]
     },
     "metadata": {
      "needs_background": "light"
     },
     "output_type": "display_data"
    }
   ],
   "source": [
    "# basic plot scatter\n",
    "plt.xlabel('Happy Score')\n",
    "plt.ylabel('Income')\n",
    "plt.scatter('happyScore', 'avg_income', data=df, s=20, color='green')"
   ]
  },
  {
   "cell_type": "code",
   "execution_count": 4,
   "metadata": {},
   "outputs": [],
   "source": [
    "X = df['happyScore'].values.reshape(-1, 1)\n",
    "Y = df['avg_income'].values.reshape(-1, 1)\n",
    "\n",
    "linear_regressor = LinearRegression()\n",
    "linear_regressor.fit(X, Y)\n",
    "Y_pred = linear_regressor.predict(X)"
   ]
  },
  {
   "cell_type": "code",
   "execution_count": 5,
   "metadata": {},
   "outputs": [
    {
     "data": {
      "text/plain": [
       "array([[ 1842.30538429],\n",
       "       [  481.79795859],\n",
       "       [11387.31647189],\n",
       "       [14073.99675104],\n",
       "       [14434.50975975],\n",
       "       [ 5541.85554504],\n",
       "       [ 3318.69199137],\n",
       "       [12945.24768807],\n",
       "       [-1432.35444477],\n",
       "       [ 1275.78494204],\n",
       "       [-4359.37672972],\n",
       "       [-2492.43436322],\n",
       "       [ 8451.71054387],\n",
       "       [13142.67147856],\n",
       "       [ 1765.05259671],\n",
       "       [ 8121.24028589],\n",
       "       [15048.24023885],\n",
       "       [15734.931684  ],\n",
       "       [11799.33133898],\n",
       "       [ 1421.70687414],\n",
       "       [ 5232.84439472],\n",
       "       [10971.00978327],\n",
       "       [14185.58411088],\n",
       "       [ 7589.0544159 ],\n",
       "       [11091.18078617],\n",
       "       [12142.67706155],\n",
       "       [ 1923.8499934 ],\n",
       "       [15477.42239207],\n",
       "       [ 4138.42990402],\n",
       "       [ 8816.51537411],\n",
       "       [ 6473.18081753],\n",
       "       [10335.8201965 ],\n",
       "       [ 2537.58047251],\n",
       "       [14958.11198667],\n",
       "       [11391.60829342],\n",
       "       [ -106.18159132],\n",
       "       [12644.82018082],\n",
       "       [ 1614.83884309],\n",
       "       [ 3056.8908779 ],\n",
       "       [ 4018.25890111],\n",
       "       [ 3722.12321539],\n",
       "       [ 7889.48192315],\n",
       "       [ 3773.62507378],\n",
       "       [ 6344.42617156],\n",
       "       [12958.12315267],\n",
       "       [14408.75883055],\n",
       "       [ 2765.04701371],\n",
       "       [ 3284.35741911],\n",
       "       [15623.34432416],\n",
       "       [ 8700.63619274],\n",
       "       [ 8868.01723249],\n",
       "       [ 2138.44107001],\n",
       "       [ 5859.45033842],\n",
       "       [ -436.6518493 ],\n",
       "       [ 7159.87226268],\n",
       "       [ 8301.49679024],\n",
       "       [ 4099.80351023],\n",
       "       [ 1503.25148325],\n",
       "       [ 2790.79794291],\n",
       "       [ 4194.22358393],\n",
       "       [ 8207.07671653],\n",
       "       [12983.87408186],\n",
       "       [ 5052.58789037],\n",
       "       [ 4687.78306014],\n",
       "       [ 8447.41872234],\n",
       "       [-1028.92322074],\n",
       "       [  318.70874036],\n",
       "       [ 4091.21986716],\n",
       "       [ 2211.40203606],\n",
       "       [ 6679.18825107],\n",
       "       [14018.20307112],\n",
       "       [ 7936.69196001],\n",
       "       [ 4507.52655578],\n",
       "       [ -325.06448946],\n",
       "       [ 5782.19755085],\n",
       "       [ 8185.61760887],\n",
       "       [14837.94098377],\n",
       "       [15455.96328441],\n",
       "       [ 2546.16411557],\n",
       "       [12297.18263671],\n",
       "       [ 8168.45032274],\n",
       "       [ 4945.29235207],\n",
       "       [ 5464.60275746],\n",
       "       [ 8026.82021218],\n",
       "       [ 5069.7551765 ],\n",
       "       [ 8400.20868548],\n",
       "       [ 5164.17525021],\n",
       "       [ 5159.88342868],\n",
       "       [ 7704.93359727],\n",
       "       [-1955.9566717 ],\n",
       "       [14777.85548232],\n",
       "       [ 8271.45403952],\n",
       "       [ 8902.35180475],\n",
       "       [ 2516.12136485],\n",
       "       [  -71.84701906],\n",
       "       [ 9481.7477116 ],\n",
       "       [-1089.00872219],\n",
       "       [-4642.63695085],\n",
       "       [10876.58970956],\n",
       "       [ 3713.53957233],\n",
       "       [ 3511.82396032],\n",
       "       [ 6056.87412891],\n",
       "       [ -599.74106752],\n",
       "       [ 3262.89831145],\n",
       "       [   44.0321623 ],\n",
       "       [13726.35920693],\n",
       "       [11005.34435552],\n",
       "       [ 6177.04513181],\n",
       "       [ 3095.51727169],\n",
       "       [ 5185.63435787],\n",
       "       [ 2958.17898266]])"
      ]
     },
     "execution_count": 5,
     "metadata": {},
     "output_type": "execute_result"
    }
   ],
   "source": [
    "Y_pred"
   ]
  },
  {
   "cell_type": "code",
   "execution_count": 6,
   "metadata": {},
   "outputs": [
    {
     "data": {
      "image/png": "[encoded data removed]",
      "text/plain": [
       "<Figure size 432x288 with 1 Axes>"
      ]
     },
     "metadata": {
      "needs_background": "light"
     },
     "output_type": "display_data"
    }
   ],
   "source": [
    "plt.xlabel('Happy Score')\n",
    "plt.ylabel('Income')\n",
    "\n",
    "plt.scatter(X, Y, color='green', alpha=0.5)\n",
    "plt.plot(X, Y_pred, color='red')\n",
    "plt.show()"
   ]
  },
  {
   "cell_type": "code",
   "execution_count": 7,
   "metadata": {},
   "outputs": [
    {
     "data": {
      "image/png": "[encoded data removed]",
      "text/plain": [
       "<Figure size 720x576 with 1 Axes>"
      ]
     },
     "metadata": {
      "needs_background": "light"
     },
     "output_type": "display_data"
    }
   ],
   "source": [
    "from sklearn.preprocessing import PolynomialFeatures\n",
    "\n",
    "# prepare Polynomial Features\n",
    "pr = PolynomialFeatures(degree = 1)\n",
    "X_poly = pr.fit_transform(X)\n",
    "pr.fit(X_poly, Y)\n",
    "\n",
    "# Polynomial Linear Regression\n",
    "lin_reg = LinearRegression()\n",
    "lin_reg.fit(X_poly, Y)\n",
    "\n",
    "# plot format\n",
    "plt.figure(figsize=(10,8))\n",
    "plt.xlabel('Happy Score')\n",
    "plt.ylabel('Income')\n",
    "\n",
    "# plot\n",
    "plt.scatter(X, Y, color='green', alpha=0.5)\n",
    "plt.scatter(X, lin_reg.predict(pr.fit_transform(X)))\n",
    "plt.show()"
   ]
  },
  {
   "cell_type": "code",
   "execution_count": 8,
   "metadata": {},
   "outputs": [
    {
     "data": {
      "image/png": "[encoded data removed]",
      "text/plain": [
       "<Figure size 720x576 with 1 Axes>"
      ]
     },
     "metadata": {
      "needs_background": "light"
     },
     "output_type": "display_data"
    }
   ],
   "source": [
    "from sklearn.preprocessing import PolynomialFeatures\n",
    "\n",
    "# prepare Polynomial Features\n",
    "pr = PolynomialFeatures(degree = 15)\n",
    "X_poly = pr.fit_transform(X)\n",
    "pr.fit(X_poly, Y)\n",
    "\n",
    "# Polynomial Linear Regression\n",
    "lin_reg = LinearRegression()\n",
    "lin_reg.fit(X_poly, Y)\n",
    "\n",
    "# plot format\n",
    "plt.figure(figsize=(10,8))\n",
    "plt.xlabel('Happy Score')\n",
    "plt.ylabel('Income')\n",
    "\n",
    "# plot\n",
    "plt.scatter(X, Y, color='green', alpha=0.5)\n",
    "plt.scatter(X, lin_reg.predict(pr.fit_transform(X)))\n",
    "plt.show()"
   ]
  },
  {
   "cell_type": "code",
   "execution_count": null,
   "metadata": {},
   "outputs": [],
   "source": []
  }
 ],
 "metadata": {
  "kernelspec": {
   "display_name": "Python 3",
   "language": "python",
   "name": "python3"
  },
  "language_info": {
   "codemirror_mode": {
    "name": "ipython",
    "version": 3
   },
   "file_extension": ".py",
   "mimetype": "text/x-python",
   "name": "python",
   "nbconvert_exporter": "python",
   "pygments_lexer": "ipython3",
   "version": "3.6.9"
  },
  "toc": {
   "base_numbering": 1,
   "nav_menu": {},
   "number_sections": false,
   "sideBar": true,
   "skip_h1_title": false,
   "title_cell": "Table of Contents",
   "title_sidebar": "Contents",
   "toc_cell": false,
   "toc_position": {},
   "toc_section_display": true,
   "toc_window_display": false
  }
 },
 "nbformat": 4,
 "nbformat_minor": 2
}
