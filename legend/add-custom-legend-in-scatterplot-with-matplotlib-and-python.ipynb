{
 "cells": [
  {
   "cell_type": "markdown",
   "metadata": {},
   "source": [
    "# How to Add Custom Legend in Scatterplot With Matplotlib and Python"
   ]
  },
  {
   "cell_type": "code",
   "execution_count": 33,
   "metadata": {},
   "outputs": [
    {
     "data": {
      "image/png": "[encoded data removed]",
      "text/plain": [
       "<Figure size 576x360 with 1 Axes>"
      ]
     },
     "metadata": {
      "needs_background": "light"
     },
     "output_type": "display_data"
    }
   ],
   "source": [
    "import random\n",
    "import numpy as np\n",
    "import matplotlib.pyplot as plt\n",
    "from matplotlib.lines import Line2D\n",
    "\n",
    "custom = [Line2D([], [], marker='.', markersize=20, color='b', linestyle='None'),\n",
    "          Line2D([], [], marker='.', markersize=20, color='r', linestyle='None')]\n",
    "\n",
    "fig = plt.figure(figsize=(8,5))\n",
    "\n",
    "x = np.random.normal(0,1,15)\n",
    "y = np.random.normal(0,1,15)\n",
    "\n",
    "colors = ['r', 'b']\n",
    "z = [random.choice(colors) for i in range(0,15)]\n",
    "\n",
    "plt.scatter(x, y, c=z)\n",
    "\n",
    "plt.legend(custom, ['Yes', 'No'], loc='upper left', fontsize=15)\n",
    "plt.show()"
   ]
  }
 ],
 "metadata": {
  "kernelspec": {
   "display_name": "Python 3",
   "language": "python",
   "name": "python3"
  },
  "language_info": {
   "codemirror_mode": {
    "name": "ipython",
    "version": 3
   },
   "file_extension": ".py",
   "mimetype": "text/x-python",
   "name": "python",
   "nbconvert_exporter": "python",
   "pygments_lexer": "ipython3",
   "version": "3.6.9"
  },
  "toc": {
   "base_numbering": 1,
   "nav_menu": {},
   "number_sections": false,
   "sideBar": true,
   "skip_h1_title": false,
   "title_cell": "Table of Contents",
   "title_sidebar": "Contents",
   "toc_cell": false,
   "toc_position": {},
   "toc_section_display": true,
   "toc_window_display": false
  }
 },
 "nbformat": 4,
 "nbformat_minor": 2
}
